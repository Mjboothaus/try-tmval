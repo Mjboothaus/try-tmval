{
 "cells": [
  {
   "attachments": {},
   "cell_type": "markdown",
   "metadata": {},
   "source": [
    "`TmVal` \n",
    "\n",
    "- [Notation guide](https://genedan.com/tmval/docs/notation.html)\n",
    "- [Snyk Advisor rating](https://snyk.io/advisor/python/tmval) - 44 "
   ]
  },
  {
   "cell_type": "markdown",
   "metadata": {},
   "source": [
    "### License\n",
    "\n",
    "[https://github.com/genedan/TmVal/blob/master/LICENSE](https://github.com/genedan/TmVal/blob/master/LICENSE)\n",
    "\n",
    "The [GPL v3 license](https://www.gnu.org/licenses/quick-guide-gplv3.html) permits users of the code to:\n",
    "\n",
    "- Use the code for commercial purposes: Like GPL v2, GPL v3 imposes no conditions on the internal use of the software.\n",
    "- Change the code: Users can change or rework the code, but if they distribute these changes/modifications in binary form, they’re also required to release these updates in source code form under the GPL v3 license.\n",
    "- Distribute copies or modifications of the code: As long as these modifications are also released under the GPL v3 license, they can be distributed to others.\n",
    "- Place warranty: Distributors of the original code can offer their own warranty on the licensed software."
   ]
  },
  {
   "cell_type": "markdown",
   "metadata": {},
   "source": []
  },
  {
   "cell_type": "code",
   "execution_count": 10,
   "metadata": {},
   "outputs": [],
   "source": [
    "from tmval import Amount, Loan, Rate, bankers_rule"
   ]
  },
  {
   "cell_type": "code",
   "execution_count": 49,
   "metadata": {},
   "outputs": [],
   "source": [
    "from datetime import datetime as dt\n",
    "from beautiful_date import *"
   ]
  },
  {
   "cell_type": "markdown",
   "metadata": {},
   "source": [
    "### Amount function $A_K(t)$\n",
    "\n",
    "A function that describes how much an invested amount of money $k$ (the principal) grows over time $t$.\n",
    "\n",
    "### Principal\n",
    "\n",
    "Either:\n",
    "- An initial investment of money.\n",
    "- The original amount of a loan that must be paid back."
   ]
  },
  {
   "cell_type": "markdown",
   "metadata": {},
   "source": [
    "### Simple example: Term deposit\n",
    "\n",
    "`Principal (K) = $1000`\n",
    "\n",
    "`Currency = AUD`\n",
    "\n",
    "`Interest rate (i) = 5.0%`  per annum"
   ]
  },
  {
   "cell_type": "code",
   "execution_count": 13,
   "metadata": {},
   "outputs": [],
   "source": [
    "principal = 1000\n",
    "principal_units = \"AUD\"\n",
    "interest_rate_per_annum = 0.05  # 5%"
   ]
  },
  {
   "cell_type": "code",
   "execution_count": 14,
   "metadata": {},
   "outputs": [],
   "source": [
    "term_deposit = Amount(gr=Rate(interest_rate_per_annum), k=principal)"
   ]
  },
  {
   "cell_type": "code",
   "execution_count": 15,
   "metadata": {},
   "outputs": [
    {
     "data": {
      "text/plain": [
       "Pattern: Effective Interest\n",
       "Rate: 0.05\n",
       "Unit of time: 1 year"
      ]
     },
     "execution_count": 15,
     "metadata": {},
     "output_type": "execute_result"
    }
   ],
   "source": [
    "term_deposit.interest_rate"
   ]
  },
  {
   "cell_type": "code",
   "execution_count": 16,
   "metadata": {},
   "outputs": [
    {
     "data": {
      "text/plain": [
       "1000"
      ]
     },
     "execution_count": 16,
     "metadata": {},
     "output_type": "execute_result"
    }
   ],
   "source": [
    "term_deposit.k"
   ]
  },
  {
   "cell_type": "code",
   "execution_count": 17,
   "metadata": {},
   "outputs": [
    {
     "data": {
      "text/plain": [
       "True"
      ]
     },
     "execution_count": 17,
     "metadata": {},
     "output_type": "execute_result"
    }
   ],
   "source": [
    "term_deposit.is_compound"
   ]
  },
  {
   "cell_type": "code",
   "execution_count": 71,
   "metadata": {},
   "outputs": [],
   "source": [
    "dates = [D.today() + t * months for t in range(13)]"
   ]
  },
  {
   "cell_type": "code",
   "execution_count": 72,
   "metadata": {},
   "outputs": [
    {
     "data": {
      "text/plain": [
       "[BeautifulDate(2022, 11, 27),\n",
       " BeautifulDate(2022, 12, 27),\n",
       " BeautifulDate(2023, 1, 27),\n",
       " BeautifulDate(2023, 2, 27),\n",
       " BeautifulDate(2023, 3, 27),\n",
       " BeautifulDate(2023, 4, 27),\n",
       " BeautifulDate(2023, 5, 27),\n",
       " BeautifulDate(2023, 6, 27),\n",
       " BeautifulDate(2023, 7, 27),\n",
       " BeautifulDate(2023, 8, 27),\n",
       " BeautifulDate(2023, 9, 27),\n",
       " BeautifulDate(2023, 10, 27),\n",
       " BeautifulDate(2023, 11, 27)]"
      ]
     },
     "execution_count": 72,
     "metadata": {},
     "output_type": "execute_result"
    }
   ],
   "source": [
    "dates"
   ]
  },
  {
   "cell_type": "code",
   "execution_count": 73,
   "metadata": {},
   "outputs": [],
   "source": [
    "dates_periods = [(dates[i+1]-dates[0]).days / 365.0 for i in range(len(dates)-1)]"
   ]
  },
  {
   "cell_type": "code",
   "execution_count": 74,
   "metadata": {},
   "outputs": [],
   "source": [
    "dates_periods = [0.0] + dates_periods"
   ]
  },
  {
   "cell_type": "code",
   "execution_count": 75,
   "metadata": {},
   "outputs": [
    {
     "data": {
      "text/plain": [
       "[0.0,\n",
       " 0.0821917808219178,\n",
       " 0.16712328767123288,\n",
       " 0.25205479452054796,\n",
       " 0.3287671232876712,\n",
       " 0.4136986301369863,\n",
       " 0.4958904109589041,\n",
       " 0.5808219178082191,\n",
       " 0.663013698630137,\n",
       " 0.7479452054794521,\n",
       " 0.8328767123287671,\n",
       " 0.915068493150685,\n",
       " 1.0]"
      ]
     },
     "execution_count": 75,
     "metadata": {},
     "output_type": "execute_result"
    }
   ],
   "source": [
    "dates_periods"
   ]
  },
  {
   "cell_type": "code",
   "execution_count": 76,
   "metadata": {},
   "outputs": [
    {
     "name": "stdout",
     "output_type": "stream",
     "text": [
      "1000.0\n",
      "1004.018201891975\n",
      "1008.1873068173253\n",
      "1012.3737236159523\n",
      "1016.1699430179497\n",
      "1020.3895070721129\n",
      "1024.4896381199812\n",
      "1028.7437490396915\n",
      "1032.8774491184402\n",
      "1037.166389749485\n",
      "1041.4731398619472\n",
      "1045.6579892029815\n",
      "1050.0\n"
     ]
    }
   ],
   "source": [
    "for period in dates_periods:\n",
    "    print(term_deposit.val(period))"
   ]
  },
  {
   "cell_type": "code",
   "execution_count": 36,
   "metadata": {},
   "outputs": [],
   "source": [
    "start_date = dt(2022, 11, 29)\n",
    "end_date = dt(2023, 11, 29)"
   ]
  },
  {
   "cell_type": "code",
   "execution_count": 38,
   "metadata": {},
   "outputs": [
    {
     "name": "stdout",
     "output_type": "stream",
     "text": [
      "29-11-2022\n"
     ]
    },
    {
     "data": {
      "text/plain": [
       "'29-11-2023'"
      ]
     },
     "execution_count": 38,
     "metadata": {},
     "output_type": "execute_result"
    }
   ],
   "source": [
    "print(start_date.strftime(\"%d-%m-%Y\"))\n",
    "end_date.strftime(\"%d-%m-%Y\")"
   ]
  },
  {
   "cell_type": "code",
   "execution_count": 39,
   "metadata": {},
   "outputs": [
    {
     "data": {
      "text/plain": [
       "365"
      ]
     },
     "execution_count": 39,
     "metadata": {},
     "output_type": "execute_result"
    }
   ],
   "source": [
    "bankers_rule(start_date, end_date, frac=False)"
   ]
  },
  {
   "cell_type": "code",
   "execution_count": 40,
   "metadata": {},
   "outputs": [
    {
     "data": {
      "text/plain": [
       "1.0138888888888888"
      ]
     },
     "execution_count": 40,
     "metadata": {},
     "output_type": "execute_result"
    }
   ],
   "source": [
    "bankers_rule(start_date, end_date, frac=True)"
   ]
  },
  {
   "cell_type": "code",
   "execution_count": 41,
   "metadata": {},
   "outputs": [
    {
     "data": {
      "text/plain": [
       "1050.711764360651"
      ]
     },
     "execution_count": 41,
     "metadata": {},
     "output_type": "execute_result"
    }
   ],
   "source": [
    "term_deposit.val(bankers_rule(start_date, end_date))"
   ]
  },
  {
   "cell_type": "code",
   "execution_count": 42,
   "metadata": {},
   "outputs": [],
   "source": [
    "dates"
   ]
  },
  {
   "cell_type": "code",
   "execution_count": 43,
   "metadata": {},
   "outputs": [
    {
     "name": "stdout",
     "output_type": "stream",
     "text": [
      "1000.0\n",
      "1000.1336806171134\n",
      "1000.2673791047343\n",
      "1000.4010954652514\n",
      "1000.5348297010542\n",
      "1000.6685818145322\n",
      "1000.8023518080751\n",
      "1000.9361396840735\n",
      "1001.0699454449175\n",
      "1001.2037690929982\n",
      "1001.337610630707\n",
      "1001.471470060435\n",
      "1001.6053473845741\n",
      "1001.7392426055167\n",
      "1001.8731557256548\n",
      "1002.0070867473818\n",
      "1002.1410356730902\n",
      "1002.2750025051737\n",
      "1002.4089872460257\n",
      "1002.5429898980409\n",
      "1002.6770104636133\n",
      "1002.8110489451376\n",
      "1002.9451053450086\n",
      "1003.0791796656222\n",
      "1003.2132719093734\n",
      "1003.3473820786587\n",
      "1003.4815101758741\n",
      "1003.6156562034164\n",
      "1003.7498201636823\n",
      "1003.8840020590693\n",
      "1004.018201891975\n"
     ]
    }
   ],
   "source": [
    "for i in period:\n",
    "    print(term_deposit.val(i/365.0))"
   ]
  },
  {
   "cell_type": "code",
   "execution_count": 44,
   "metadata": {},
   "outputs": [],
   "source": [
    "gr=Rate(rate=interest_rate_per_annum, pattern=\"Effective Interest\", interval=1)"
   ]
  },
  {
   "attachments": {},
   "cell_type": "markdown",
   "metadata": {},
   "source": [
    "Simple interest amount function: $A_K(t) = K(1 + st)$"
   ]
  },
  {
   "cell_type": "code",
   "execution_count": 45,
   "metadata": {},
   "outputs": [],
   "source": [
    "gr = Rate(rate=0.10, pattern=\"Simple Interest\", freq=1, interval=1)"
   ]
  },
  {
   "cell_type": "code",
   "execution_count": 46,
   "metadata": {},
   "outputs": [],
   "source": [
    "principal = 1000"
   ]
  },
  {
   "cell_type": "code",
   "execution_count": 47,
   "metadata": {},
   "outputs": [],
   "source": [
    "amt = Amount(gr=gr, k=principal)"
   ]
  },
  {
   "cell_type": "code",
   "execution_count": 48,
   "metadata": {},
   "outputs": [
    {
     "name": "stdout",
     "output_type": "stream",
     "text": [
      "1000.0\n",
      "1100.0\n",
      "1200.0\n",
      "1300.0\n",
      "1400.0\n",
      "1500.0\n",
      "1600.0\n",
      "1700.0000000000002\n",
      "1800.0\n",
      "1900.0\n",
      "2000.0\n",
      "2100.0\n",
      "2200.0\n",
      "2300.0\n",
      "2400.0000000000005\n",
      "2500.0\n",
      "2600.0\n",
      "2700.0\n",
      "2800.0\n",
      "2900.0000000000005\n",
      "3000.0\n",
      "3100.0\n",
      "3200.0\n",
      "3300.0000000000005\n",
      "3400.0000000000005\n",
      "3500.0\n",
      "3600.0\n",
      "3700.0\n",
      "3800.0000000000005\n",
      "3900.0000000000005\n",
      "4000.0\n"
     ]
    }
   ],
   "source": [
    "for i in period:\n",
    "    print(amt.val(i))"
   ]
  },
  {
   "cell_type": "code",
   "execution_count": null,
   "metadata": {},
   "outputs": [],
   "source": []
  }
 ],
 "metadata": {
  "kernelspec": {
   "display_name": "Python 3.9.12 ('.venv_try-tmval': venv)",
   "language": "python",
   "name": "python3"
  },
  "language_info": {
   "codemirror_mode": {
    "name": "ipython",
    "version": 3
   },
   "file_extension": ".py",
   "mimetype": "text/x-python",
   "name": "python",
   "nbconvert_exporter": "python",
   "pygments_lexer": "ipython3",
   "version": "3.9.12"
  },
  "orig_nbformat": 4,
  "vscode": {
   "interpreter": {
    "hash": "9a4cde442a95c6e5ad84bb7be918487ea7b0fd9bdd58e5cc7bb0005d96d45337"
   }
  }
 },
 "nbformat": 4,
 "nbformat_minor": 2
}
